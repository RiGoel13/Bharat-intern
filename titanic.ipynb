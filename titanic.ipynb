{
  "nbformat": 4,
  "nbformat_minor": 0,
  "metadata": {
    "colab": {
      "provenance": [],
      "authorship_tag": "ABX9TyPL8MyaZ4FWCsi4jhxkK+gV",
      "include_colab_link": true
    },
    "kernelspec": {
      "name": "python3",
      "display_name": "Python 3"
    },
    "language_info": {
      "name": "python"
    }
  },
  "cells": [
    {
      "cell_type": "markdown",
      "metadata": {
        "id": "view-in-github",
        "colab_type": "text"
      },
      "source": [
        "<a href=\"https://colab.research.google.com/github/RiGoel13/Bharat-intern/blob/main/titanic.ipynb\" target=\"_parent\"><img src=\"https://colab.research.google.com/assets/colab-badge.svg\" alt=\"Open In Colab\"/></a>"
      ]
    },
    {
      "cell_type": "markdown",
      "source": [
        "titanic"
      ],
      "metadata": {
        "id": "uZv2oY86Pxsk"
      }
    },
    {
      "cell_type": "code",
      "source": [
        "class Person:\n",
        "    def _init_(self, age, gender, social_status):\n",
        "        self.age = age\n",
        "        self.gender = gender\n",
        "        self.social_status = int(social_status)\n",
        "\n"
      ],
      "metadata": {
        "id": "r1K0yzlUs32r"
      },
      "execution_count": null,
      "outputs": []
    },
    {
      "cell_type": "markdown",
      "source": [
        "# Creating a person"
      ],
      "metadata": {
        "id": "rn04y8mhs9P6"
      }
    },
    {
      "cell_type": "code",
      "source": [
        " def is_saved(self):\n",
        "        return (self.age <= 25) and (self.gender == 'female') and (self.social_status >= 8)\n",
        "\n"
      ],
      "metadata": {
        "id": "tNaZk9RKs5F2"
      },
      "execution_count": null,
      "outputs": []
    },
    {
      "cell_type": "markdown",
      "source": [
        "# Checking if the person will be saved"
      ],
      "metadata": {
        "id": "S-Po0cDPtD_Y"
      }
    },
    {
      "cell_type": "code",
      "source": [
        "age = int(input(\"Enter age: \"))\n",
        "gender = input(\"Enter gender (male/female): \").lower()\n",
        "social_status = input(\"Enter social status (an integer value): \")\n"
      ],
      "metadata": {
        "colab": {
          "base_uri": "https://localhost:8080/"
        },
        "id": "W11XR84ktEI4",
        "outputId": "77c373f7-468a-45f7-9df4-c24adee8b85a"
      },
      "execution_count": null,
      "outputs": [
        {
          "name": "stdout",
          "output_type": "stream",
          "text": [
            "Enter age: 55\n",
            "Enter gender (male/female): female\n",
            "Enter social status (an integer value): 7\n"
          ]
        }
      ]
    },
    {
      "cell_type": "code",
      "source": [
        "person = Person(age, gender, social_status)\n",
        "if person.is_saved():\n",
        "    print(\"The person will be saved.\")\n",
        "else:\n",
        "    print(\"The person will not be saved.\")"
      ],
      "metadata": {
        "colab": {
          "base_uri": "https://localhost:8080/"
        },
        "id": "a0_e7ZXAHTK_",
        "outputId": "ee3ca3d6-9127-40c7-9204-7bc0f1f17b76"
      },
      "execution_count": null,
      "outputs": [
        {
          "output_type": "stream",
          "name": "stdout",
          "text": [
            "The person will not be saved.\n"
          ]
        }
      ]
    }
  ]
}